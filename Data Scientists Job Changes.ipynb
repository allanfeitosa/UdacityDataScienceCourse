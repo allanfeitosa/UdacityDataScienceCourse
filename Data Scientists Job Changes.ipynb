{
 "cells": [
  {
   "cell_type": "code",
   "execution_count": 1,
   "metadata": {},
   "outputs": [],
   "source": [
    "import pandas as pd"
   ]
  },
  {
   "cell_type": "code",
   "execution_count": 2,
   "metadata": {},
   "outputs": [],
   "source": [
    "original_data = pd.read_csv('aug_train.csv')"
   ]
  },
  {
   "cell_type": "code",
   "execution_count": 21,
   "metadata": {},
   "outputs": [
    {
     "data": {
      "text/plain": [
       "(19158, 14)"
      ]
     },
     "execution_count": 21,
     "metadata": {},
     "output_type": "execute_result"
    }
   ],
   "source": [
    "original_data.shape"
   ]
  },
  {
   "cell_type": "code",
   "execution_count": 3,
   "metadata": {},
   "outputs": [
    {
     "data": {
      "text/html": [
       "<div>\n",
       "<style scoped>\n",
       "    .dataframe tbody tr th:only-of-type {\n",
       "        vertical-align: middle;\n",
       "    }\n",
       "\n",
       "    .dataframe tbody tr th {\n",
       "        vertical-align: top;\n",
       "    }\n",
       "\n",
       "    .dataframe thead th {\n",
       "        text-align: right;\n",
       "    }\n",
       "</style>\n",
       "<table border=\"1\" class=\"dataframe\">\n",
       "  <thead>\n",
       "    <tr style=\"text-align: right;\">\n",
       "      <th></th>\n",
       "      <th>enrollee_id</th>\n",
       "      <th>city</th>\n",
       "      <th>city_development_index</th>\n",
       "      <th>gender</th>\n",
       "      <th>relevent_experience</th>\n",
       "      <th>enrolled_university</th>\n",
       "      <th>education_level</th>\n",
       "      <th>major_discipline</th>\n",
       "      <th>experience</th>\n",
       "      <th>company_size</th>\n",
       "      <th>company_type</th>\n",
       "      <th>last_new_job</th>\n",
       "      <th>training_hours</th>\n",
       "      <th>target</th>\n",
       "    </tr>\n",
       "  </thead>\n",
       "  <tbody>\n",
       "    <tr>\n",
       "      <th>0</th>\n",
       "      <td>8949</td>\n",
       "      <td>city_103</td>\n",
       "      <td>0.920</td>\n",
       "      <td>Male</td>\n",
       "      <td>Has relevent experience</td>\n",
       "      <td>no_enrollment</td>\n",
       "      <td>Graduate</td>\n",
       "      <td>STEM</td>\n",
       "      <td>&gt;20</td>\n",
       "      <td>NaN</td>\n",
       "      <td>NaN</td>\n",
       "      <td>1</td>\n",
       "      <td>36</td>\n",
       "      <td>1.0</td>\n",
       "    </tr>\n",
       "    <tr>\n",
       "      <th>1</th>\n",
       "      <td>29725</td>\n",
       "      <td>city_40</td>\n",
       "      <td>0.776</td>\n",
       "      <td>Male</td>\n",
       "      <td>No relevent experience</td>\n",
       "      <td>no_enrollment</td>\n",
       "      <td>Graduate</td>\n",
       "      <td>STEM</td>\n",
       "      <td>15</td>\n",
       "      <td>50-99</td>\n",
       "      <td>Pvt Ltd</td>\n",
       "      <td>&gt;4</td>\n",
       "      <td>47</td>\n",
       "      <td>0.0</td>\n",
       "    </tr>\n",
       "    <tr>\n",
       "      <th>2</th>\n",
       "      <td>11561</td>\n",
       "      <td>city_21</td>\n",
       "      <td>0.624</td>\n",
       "      <td>NaN</td>\n",
       "      <td>No relevent experience</td>\n",
       "      <td>Full time course</td>\n",
       "      <td>Graduate</td>\n",
       "      <td>STEM</td>\n",
       "      <td>5</td>\n",
       "      <td>NaN</td>\n",
       "      <td>NaN</td>\n",
       "      <td>never</td>\n",
       "      <td>83</td>\n",
       "      <td>0.0</td>\n",
       "    </tr>\n",
       "    <tr>\n",
       "      <th>3</th>\n",
       "      <td>33241</td>\n",
       "      <td>city_115</td>\n",
       "      <td>0.789</td>\n",
       "      <td>NaN</td>\n",
       "      <td>No relevent experience</td>\n",
       "      <td>NaN</td>\n",
       "      <td>Graduate</td>\n",
       "      <td>Business Degree</td>\n",
       "      <td>&lt;1</td>\n",
       "      <td>NaN</td>\n",
       "      <td>Pvt Ltd</td>\n",
       "      <td>never</td>\n",
       "      <td>52</td>\n",
       "      <td>1.0</td>\n",
       "    </tr>\n",
       "    <tr>\n",
       "      <th>4</th>\n",
       "      <td>666</td>\n",
       "      <td>city_162</td>\n",
       "      <td>0.767</td>\n",
       "      <td>Male</td>\n",
       "      <td>Has relevent experience</td>\n",
       "      <td>no_enrollment</td>\n",
       "      <td>Masters</td>\n",
       "      <td>STEM</td>\n",
       "      <td>&gt;20</td>\n",
       "      <td>50-99</td>\n",
       "      <td>Funded Startup</td>\n",
       "      <td>4</td>\n",
       "      <td>8</td>\n",
       "      <td>0.0</td>\n",
       "    </tr>\n",
       "  </tbody>\n",
       "</table>\n",
       "</div>"
      ],
      "text/plain": [
       "   enrollee_id      city  city_development_index gender  \\\n",
       "0         8949  city_103                   0.920   Male   \n",
       "1        29725   city_40                   0.776   Male   \n",
       "2        11561   city_21                   0.624    NaN   \n",
       "3        33241  city_115                   0.789    NaN   \n",
       "4          666  city_162                   0.767   Male   \n",
       "\n",
       "       relevent_experience enrolled_university education_level  \\\n",
       "0  Has relevent experience       no_enrollment        Graduate   \n",
       "1   No relevent experience       no_enrollment        Graduate   \n",
       "2   No relevent experience    Full time course        Graduate   \n",
       "3   No relevent experience                 NaN        Graduate   \n",
       "4  Has relevent experience       no_enrollment         Masters   \n",
       "\n",
       "  major_discipline experience company_size    company_type last_new_job  \\\n",
       "0             STEM        >20          NaN             NaN            1   \n",
       "1             STEM         15        50-99         Pvt Ltd           >4   \n",
       "2             STEM          5          NaN             NaN        never   \n",
       "3  Business Degree         <1          NaN         Pvt Ltd        never   \n",
       "4             STEM        >20        50-99  Funded Startup            4   \n",
       "\n",
       "   training_hours  target  \n",
       "0              36     1.0  \n",
       "1              47     0.0  \n",
       "2              83     0.0  \n",
       "3              52     1.0  \n",
       "4               8     0.0  "
      ]
     },
     "execution_count": 3,
     "metadata": {},
     "output_type": "execute_result"
    }
   ],
   "source": [
    "original_data.head()"
   ]
  },
  {
   "cell_type": "code",
   "execution_count": 4,
   "metadata": {},
   "outputs": [
    {
     "data": {
      "text/plain": [
       "0.0    14381\n",
       "1.0     4777\n",
       "Name: target, dtype: int64"
      ]
     },
     "execution_count": 4,
     "metadata": {},
     "output_type": "execute_result"
    }
   ],
   "source": [
    "#Verifying if there is missing data in the target column\n",
    "original_data.target.value_counts()"
   ]
  },
  {
   "cell_type": "code",
   "execution_count": 5,
   "metadata": {},
   "outputs": [
    {
     "data": {
      "text/plain": [
       "Male      13221\n",
       "Female     1238\n",
       "Other       191\n",
       "Name: gender, dtype: int64"
      ]
     },
     "execution_count": 5,
     "metadata": {},
     "output_type": "execute_result"
    }
   ],
   "source": [
    "#Analyzing if the fact of being men or women influences in the decision of looking for a job\n",
    "original_data.gender.value_counts()"
   ]
  },
  {
   "cell_type": "code",
   "execution_count": 6,
   "metadata": {},
   "outputs": [
    {
     "name": "stdout",
     "output_type": "stream",
     "text": [
      "From 1238 women 326 want to change their jobs. Resulting in a proportion of 26.33279483037157 %\n"
     ]
    }
   ],
   "source": [
    "#What is the proportion of People who declared their gender as 'Female' that want to change their jobs\n",
    "total_women = original_data.loc[original_data['gender'] == 'Female'].shape[0]\n",
    "total_women_want_to_change_jobs = original_data.loc[(original_data['gender'] == 'Female') & (original_data['target'] == 1.0)].shape[0]\n",
    "print('From '+str(total_women)+' women '+str(total_women_want_to_change_jobs)+' want to change their jobs. Resulting in a proportion of '+str((total_women_want_to_change_jobs/total_women)*100)+' %')"
   ]
  },
  {
   "cell_type": "code",
   "execution_count": 7,
   "metadata": {},
   "outputs": [
    {
     "name": "stdout",
     "output_type": "stream",
     "text": [
      "From 13221 men 3012 want to change their jobs. Resulting in a proportion of 22.781937826185615 %\n"
     ]
    }
   ],
   "source": [
    "#What is the proportion of People who declared their gender as 'Male' that want to change their jobs\n",
    "total_men = original_data.loc[original_data['gender'] == 'Male'].shape[0]\n",
    "total_men_want_to_change_jobs = original_data.loc[(original_data['gender'] == 'Male') & (original_data['target'] == 1.0)].shape[0]\n",
    "print('From '+str(total_men)+' men '+str(total_men_want_to_change_jobs)+' want to change their jobs. Resulting in a proportion of '+str((total_men_want_to_change_jobs/total_men)*100)+' %')"
   ]
  },
  {
   "cell_type": "code",
   "execution_count": 8,
   "metadata": {},
   "outputs": [
    {
     "name": "stdout",
     "output_type": "stream",
     "text": [
      "From 191 men 50 want to change their jobs. Resulting in a proportion of 22.781937826185615 %\n"
     ]
    }
   ],
   "source": [
    "#What is the proportion of People who declared their gender as 'Other' that want to change their jobs\n",
    "total_other = original_data.loc[original_data['gender'] == 'Other'].shape[0]\n",
    "total_other_want_to_change_jobs = original_data.loc[(original_data['gender'] == 'Other') & (original_data['target'] == 1.0)].shape[0]\n",
    "print('From '+str(total_other)+' men '+str(total_other_want_to_change_jobs)+' want to change their jobs. Resulting in a proportion of '+str((total_men_want_to_change_jobs/total_men)*100)+' %')"
   ]
  },
  {
   "cell_type": "code",
   "execution_count": 22,
   "metadata": {},
   "outputs": [
    {
     "data": {
      "text/plain": [
       "Has relevent experience    13792\n",
       "No relevent experience      5366\n",
       "Name: relevent_experience, dtype: int64"
      ]
     },
     "execution_count": 22,
     "metadata": {},
     "output_type": "execute_result"
    }
   ],
   "source": [
    "#Check if there are blank or missing values in Has Relevant Experience column\n",
    "original_data.relevent_experience.value_counts(dropna=False)"
   ]
  },
  {
   "cell_type": "code",
   "execution_count": 10,
   "metadata": {},
   "outputs": [
    {
     "name": "stdout",
     "output_type": "stream",
     "text": [
      "21.468967517401392 % of the people who HAS RELEVANT EXPERIENCE want to change their jobs.\n"
     ]
    }
   ],
   "source": [
    "#What is the percentage of people that want to change their jobs and also Have relevante experience\n",
    "total_has_relevant_experience = original_data.loc[original_data['relevent_experience'] == 'Has relevent experience'].shape[0]\n",
    "total_has_experience_and_want_to_change_jobs = original_data.loc[(original_data['relevent_experience'] == 'Has relevent experience') & (original_data['target'] == 1.0)].shape[0]\n",
    "print(str((total_has_experience_and_want_to_change_jobs/total_has_relevant_experience)*100)+' %' +' of the people who HAS RELEVANT EXPERIENCE want to change their jobs.')"
   ]
  },
  {
   "cell_type": "code",
   "execution_count": 29,
   "metadata": {},
   "outputs": [
    {
     "name": "stdout",
     "output_type": "stream",
     "text": [
      "33.84271338054417 % of the people who HAS NOT RELEVANT EXPERIENCE want to change their jobs.\n"
     ]
    }
   ],
   "source": [
    "#What is the percentage of people that want to change their jobs and Have NOT relevante experience\n",
    "total_hasnt_relevant_experience = original_data.loc[original_data['relevent_experience'] == 'No relevent experience'].shape[0]\n",
    "total_hasnt_experience_and_want_to_change_jobs = original_data.loc[(original_data['relevent_experience'] == 'No relevent experience') & (original_data['target'] == 1.0)].shape[0]\n",
    "print(str((total_hasnt_experience_and_want_to_change_jobs/total_hasnt_relevant_experience)*100)+' %' +' of the people who HAS NOT RELEVANT EXPERIENCE want to change their jobs.')"
   ]
  },
  {
   "cell_type": "code",
   "execution_count": 31,
   "metadata": {},
   "outputs": [
    {
     "data": {
      "text/plain": [
       "(18772, 14)"
      ]
     },
     "execution_count": 31,
     "metadata": {},
     "output_type": "execute_result"
    }
   ],
   "source": [
    "#In order to drop missing values only of the parameter being analyzed a subset of the dataset will be created for each analysis\n",
    "data_enrolled_university = original_data.dropna(subset=['enrolled_university'])\n",
    "total = data_enrolled_university.shape[0]\n",
    "data_enrolled_university.shape"
   ]
  },
  {
   "cell_type": "code",
   "execution_count": 32,
   "metadata": {},
   "outputs": [
    {
     "data": {
      "text/plain": [
       "no_enrollment       13817\n",
       "Full time course     3757\n",
       "Part time course     1198\n",
       "Name: enrolled_university, dtype: int64"
      ]
     },
     "execution_count": 32,
     "metadata": {},
     "output_type": "execute_result"
    }
   ],
   "source": [
    "data_enrolled_university['enrolled_university'].value_counts(dropna=False)"
   ]
  },
  {
   "cell_type": "code",
   "execution_count": 35,
   "metadata": {},
   "outputs": [
    {
     "name": "stdout",
     "output_type": "stream",
     "text": [
      "15.560409119965907 % of the people who have no enrolment in university want to change their jobs.\n",
      "7.623055614745365 % of the people who are in a full time course want to change their jobs.\n",
      "1.6087790326017475 % of the people who are in a part time course want to change their jobs.\n"
     ]
    }
   ],
   "source": [
    "total_with_no_enrolment = original_data.loc[(data_enrolled_university['enrolled_university'] == 'no_enrollment') & (original_data['target'] == 1.0)].shape[0]\n",
    "total_in_full_time_course = original_data.loc[(data_enrolled_university['enrolled_university'] == 'Full time course') & (original_data['target'] == 1.0)].shape[0]\n",
    "total_in_part_time_course = original_data.loc[(data_enrolled_university['enrolled_university'] == 'Part time course') & (original_data['target'] == 1.0)].shape[0]\n",
    "\n",
    "print(str((total_with_no_enrolment/total)*100)+' %' +' of the people who have no enrolment in university want to change their jobs.')\n",
    "print(str((total_in_full_time_course/total)*100)+' %' +' of the people who are in a full time course want to change their jobs.')\n",
    "print(str((total_in_part_time_course/total)*100)+' %' +' of the people who are in a part time course want to change their jobs.')"
   ]
  },
  {
   "cell_type": "code",
   "execution_count": null,
   "metadata": {},
   "outputs": [],
   "source": []
  }
 ],
 "metadata": {
  "kernelspec": {
   "display_name": "Python 3",
   "language": "python",
   "name": "python3"
  },
  "language_info": {
   "codemirror_mode": {
    "name": "ipython",
    "version": 3
   },
   "file_extension": ".py",
   "mimetype": "text/x-python",
   "name": "python",
   "nbconvert_exporter": "python",
   "pygments_lexer": "ipython3",
   "version": "3.7.6"
  }
 },
 "nbformat": 4,
 "nbformat_minor": 4
}
